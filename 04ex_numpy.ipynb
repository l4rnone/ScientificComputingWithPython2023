{
 "cells": [
  {
   "cell_type": "markdown",
   "metadata": {},
   "source": [
    "1\\. **Reductions**\n",
    "\n",
    "Given the following matrix:\n",
    "\n",
    "```python\n",
    "m = np.arange(12).reshape((3,4))\n",
    "```\n",
    "\n",
    "   1. find the total mean\n",
    "   2. find the mean for each row and column"
   ]
  },
  {
   "cell_type": "code",
   "execution_count": 32,
   "metadata": {},
   "outputs": [],
   "source": [
    "import numpy as np"
   ]
  },
  {
   "cell_type": "code",
   "execution_count": 2,
   "metadata": {},
   "outputs": [
    {
     "name": "stdout",
     "output_type": "stream",
     "text": [
      "[[ 0  1  2  3]\n",
      " [ 4  5  6  7]\n",
      " [ 8  9 10 11]]\n",
      "total mean = 5.5\n",
      "mean of each row = [1.5 5.5 9.5]\n",
      "mean of each column = [4. 5. 6. 7.]\n"
     ]
    }
   ],
   "source": [
    "m = np.arange(12).reshape((3,4))\n",
    "print(m)\n",
    "\n",
    "print(\"total mean =\", m.mean())\n",
    "print(\"mean of each row =\", m.mean(axis=1))\n",
    "print(\"mean of each column =\", m.mean(axis=0))\n"
   ]
  },
  {
   "cell_type": "markdown",
   "metadata": {},
   "source": [
    "2\\. **Outer product**\n",
    "\n",
    "Find the outer product of the following vectors:\n",
    "\n",
    "```python\n",
    "u = np.array([1, 3, 5, 7])\n",
    "v = np.array([2, 4, 6, 8])\n",
    "```\n",
    "\n",
    "Use different methods to do this:\n",
    "\n",
    "   1. Using the function `outer` in numpy\n",
    "   2. Using a nested `for` loop or a list comprehension\n",
    "   3. Using numpy broadcasting operations"
   ]
  },
  {
   "cell_type": "code",
   "execution_count": 3,
   "metadata": {},
   "outputs": [
    {
     "name": "stdout",
     "output_type": "stream",
     "text": [
      "outer product: [1 3 5 7] x [2 4 6 8]\n",
      "outer1 = \n",
      " [[ 2  4  6  8]\n",
      " [ 6 12 18 24]\n",
      " [10 20 30 40]\n",
      " [14 28 42 56]]\n",
      "outer2 = \n",
      " [[ 2  4  6  8]\n",
      " [ 6 12 18 24]\n",
      " [10 20 30 40]\n",
      " [14 28 42 56]]\n",
      "outer3 = \n",
      " [[ 2  4  6  8]\n",
      " [ 6 12 18 24]\n",
      " [10 20 30 40]\n",
      " [14 28 42 56]]\n"
     ]
    }
   ],
   "source": [
    "u = np.array([1, 3, 5, 7])\n",
    "v = np.array([2, 4, 6, 8])\n",
    "\n",
    "print(\"outer product:\", u, \"x\", v)\n",
    "\n",
    "# 1. using outer function in numpy\n",
    "outer1 = np.outer(u, v)\n",
    "print(\"outer1 = \\n\", outer1)\n",
    "\n",
    "# 2. using a nested for loop or list comprehension\n",
    "outer2 = np.array([[u[i]*v[j] for j in range(len(u))] for i in range(len(v))])\n",
    "print(\"outer2 = \\n\", outer2)\n",
    "\n",
    "# 3. using numpy broadcasting \n",
    "m = u.reshape(4,1)\n",
    "print(\"outer3 = \\n\", m*v )"
   ]
  },
  {
   "cell_type": "markdown",
   "metadata": {},
   "source": [
    "3\\. **Matrix masking**\n",
    "\n",
    "Create a $10 \\times 6$ matrix of float random numbers, distributed between 0 and 3 according to a flat distribution.\n",
    "\n",
    "After creating the matrix, set all entries $< 0.3$ to zero using a mask."
   ]
  },
  {
   "cell_type": "code",
   "execution_count": null,
   "metadata": {},
   "outputs": [],
   "source": [
    "import numpy.random as npr"
   ]
  },
  {
   "cell_type": "code",
   "execution_count": 4,
   "metadata": {},
   "outputs": [
    {
     "name": "stdout",
     "output_type": "stream",
     "text": [
      "my_matrix before: \n",
      " [[1.9  0.71 0.21 1.18 1.34 0.12]\n",
      " [2.16 2.61 1.39 2.7  0.58 0.51]\n",
      " [1.81 0.32 2.28 2.26 1.41 1.27]\n",
      " [1.11 1.09 1.01 0.69 2.25 2.87]\n",
      " [0.5  1.67 2.24 2.2  0.16 2.06]\n",
      " [1.94 0.81 1.9  2.4  1.92 2.38]\n",
      " [0.65 0.35 0.49 2.72 0.59 1.28]\n",
      " [2.96 1.72 1.74 0.19 0.49 2.13]\n",
      " [0.27 1.95 1.72 0.83 1.43 2.64]\n",
      " [1.91 2.14 2.23 0.59 0.56 0.44]]\n",
      "my_matrix after: \n",
      " [[1.9  0.71 0.   1.18 1.34 0.  ]\n",
      " [2.16 2.61 1.39 2.7  0.58 0.51]\n",
      " [1.81 0.32 2.28 2.26 1.41 1.27]\n",
      " [1.11 1.09 1.01 0.69 2.25 2.87]\n",
      " [0.5  1.67 2.24 2.2  0.   2.06]\n",
      " [1.94 0.81 1.9  2.4  1.92 2.38]\n",
      " [0.65 0.35 0.49 2.72 0.59 1.28]\n",
      " [2.96 1.72 1.74 0.   0.49 2.13]\n",
      " [0.   1.95 1.72 0.83 1.43 2.64]\n",
      " [1.91 2.14 2.23 0.59 0.56 0.44]]\n"
     ]
    }
   ],
   "source": [
    "np.set_printoptions(precision=2)\n",
    "\n",
    "my_matrix = npr.uniform(0, 3, size=(10,6))\n",
    "my_mask = (my_matrix < 0.3)\n",
    "\n",
    "print(\"my_matrix before: \\n\", my_matrix)\n",
    "my_matrix[my_mask] = 0\n",
    "print(\"my_matrix after: \\n\", my_matrix)"
   ]
  },
  {
   "cell_type": "markdown",
   "metadata": {},
   "source": [
    "4\\. **Trigonometric functions**\n",
    "\n",
    "Use `np.linspace` to create an array of 100 numbers between $0$ and $2\\pi$ (inclusive).\n",
    "\n",
    "  * Extract every 10th element using the slice notation\n",
    "  * Reverse the array using the slice notation\n",
    "  * Extract elements where the absolute difference between the `sin` and `cos` functions evaluated for that element is $< 0.1$\n",
    "  * **Optional**: make a plot showing the `sin` and `cos` functions and indicate graphically (with a line or a marker) where they are close"
   ]
  },
  {
   "cell_type": "code",
   "execution_count": null,
   "metadata": {},
   "outputs": [],
   "source": [
    "from math import pi\n",
    "import matplotlib.pyplot as plt"
   ]
  },
  {
   "cell_type": "code",
   "execution_count": 7,
   "metadata": {},
   "outputs": [
    {
     "name": "stdout",
     "output_type": "stream",
     "text": [
      "my_array: \n",
      " [0.   0.06 0.13 0.19 0.25 0.32 0.38 0.44 0.51 0.57 0.63 0.7  0.76 0.83\n",
      " 0.89 0.95 1.02 1.08 1.14 1.21 1.27 1.33 1.4  1.46 1.52 1.59 1.65 1.71\n",
      " 1.78 1.84 1.9  1.97 2.03 2.09 2.16 2.22 2.28 2.35 2.41 2.48 2.54 2.6\n",
      " 2.67 2.73 2.79 2.86 2.92 2.98 3.05 3.11 3.17 3.24 3.3  3.36 3.43 3.49\n",
      " 3.55 3.62 3.68 3.74 3.81 3.87 3.93 4.   4.06 4.13 4.19 4.25 4.32 4.38\n",
      " 4.44 4.51 4.57 4.63 4.7  4.76 4.82 4.89 4.95 5.01 5.08 5.14 5.2  5.27\n",
      " 5.33 5.39 5.46 5.52 5.59 5.65 5.71 5.78 5.84 5.9  5.97 6.03 6.09 6.16\n",
      " 6.22 6.28]\n",
      "every 10th element = [0.57 1.21 1.84 2.48 3.11 3.74 4.38 5.01 5.65 6.28]\n",
      "my_array reversed: \n",
      " [6.28 6.22 6.16 6.09 6.03 5.97 5.9  5.84 5.78 5.71 5.65 5.59 5.52 5.46\n",
      " 5.39 5.33 5.27 5.2  5.14 5.08 5.01 4.95 4.89 4.82 4.76 4.7  4.63 4.57\n",
      " 4.51 4.44 4.38 4.32 4.25 4.19 4.13 4.06 4.   3.93 3.87 3.81 3.74 3.68\n",
      " 3.62 3.55 3.49 3.43 3.36 3.3  3.24 3.17 3.11 3.05 2.98 2.92 2.86 2.79\n",
      " 2.73 2.67 2.6  2.54 2.48 2.41 2.35 2.28 2.22 2.16 2.09 2.03 1.97 1.9\n",
      " 1.84 1.78 1.71 1.65 1.59 1.52 1.46 1.4  1.33 1.27 1.21 1.14 1.08 1.02\n",
      " 0.95 0.89 0.83 0.76 0.7  0.63 0.57 0.51 0.44 0.38 0.32 0.25 0.19 0.13\n",
      " 0.06 0.  ]\n",
      "|sen-cos| < 0.1 :  [0.76 0.83 3.87 3.93]\n"
     ]
    },
    {
     "data": {
      "image/png": "[encoded data removed]",
      "text/plain": [
       "<Figure size 432x288 with 1 Axes>"
      ]
     },
     "metadata": {
      "needs_background": "light"
     },
     "output_type": "display_data"
    }
   ],
   "source": [
    "npr.seed(128)\n",
    "\n",
    "my_array = np.linspace(0, 2*pi, 100) # start, end, num-points\n",
    "print(\"my_array: \\n\", my_array) \n",
    "\n",
    "tens = my_array[9::10] \n",
    "print(\"every 10th element =\", tens)\n",
    "\n",
    "reversed = my_array[::-1]\n",
    "print(\"my_array reversed: \\n\", reversed)\n",
    "\n",
    "mask = (abs(np.sin(my_array) - np.cos(my_array)) < 0.1)\n",
    "extracted = my_array[mask]\n",
    "print(\"|sen-cos| < 0.1 : \", extracted)\n",
    "\n",
    "x= my_array\n",
    "plt.plot(x, np.sin(x))\n",
    "plt.plot(x, np.cos(x))\n",
    "for i in extracted:\n",
    "    plt.axvline(x=i, color=\"red\")"
   ]
  },
  {
   "cell_type": "markdown",
   "metadata": {},
   "source": [
    "5\\. **Matrices**\n",
    "\n",
    "Create a matrix that shows the $10 \\times 10$ multiplication table.\n",
    "\n",
    " * Find the trace of the matrix\n",
    " * Extract the anti-diagonal matrix (this should be ```array([10, 18, 24, 28, 30, 30, 28, 24, 18, 10])```)\n",
    " * Extract the diagonal offset by 1 upwards (this should be ```array([ 2,  6, 12, 20, 30, 42, 56, 72, 90])```)"
   ]
  },
  {
   "cell_type": "code",
   "execution_count": 238,
   "metadata": {},
   "outputs": [
    {
     "name": "stdout",
     "output_type": "stream",
     "text": [
      "tabellina = \n",
      " [[  1   2   3   4   5   6   7   8   9  10]\n",
      " [  2   4   6   8  10  12  14  16  18  20]\n",
      " [  3   6   9  12  15  18  21  24  27  30]\n",
      " [  4   8  12  16  20  24  28  32  36  40]\n",
      " [  5  10  15  20  25  30  35  40  45  50]\n",
      " [  6  12  18  24  30  36  42  48  54  60]\n",
      " [  7  14  21  28  35  42  49  56  63  70]\n",
      " [  8  16  24  32  40  48  56  64  72  80]\n",
      " [  9  18  27  36  45  54  63  72  81  90]\n",
      " [ 10  20  30  40  50  60  70  80  90 100]]\n",
      "trace : 385\n",
      "antidiagonal matrix :  [10 18 24 28 30 30 28 24 18 10]\n",
      "diagonal offset by 1 : [ 2  6 12 20 30 42 56 72 90]\n"
     ]
    }
   ],
   "source": [
    "x = range(1, 11)\n",
    "n = range(1, 11)\n",
    "table = np.array([[i*j for j in x] for i in n])\n",
    "print(\"tabellina = \\n\", table)\n",
    "\n",
    "trace = np.trace(table)\n",
    "print(\"trace :\", trace)\n",
    "\n",
    "antidiag = np.array([table[9-i][j] for i in range(len(x)) for j in range(len(n)) if i == j ]) \n",
    "print(\"antidiagonal matrix : \", antidiag)\n",
    "\n",
    "diag_off = np.array([table[i][i+1] for i in range(len(x)-1)])\n",
    "print(\"diagonal offset by 1 :\", diag_off)"
   ]
  },
  {
   "cell_type": "markdown",
   "metadata": {},
   "source": [
    "6\\. **Broadcasting**\n",
    "\n",
    "Use broadcasting to create a grid of distances.\n",
    "\n",
    "Route 66 crosses the following cities in the US: Chicago, Springfield, Saint-Louis, Tulsa, Oklahoma City, Amarillo, Santa Fe, Albuquerque, Flagstaff, Los Angeles.\n",
    "\n",
    "The corresponding positions in miles are: `0, 198, 303, 736, 871, 1175, 1475, 1544, 1913, 2448`\n",
    "\n",
    "  * Build a 2D grid of distances among each city along Route 66\n",
    "  * Convert the distances in km"
   ]
  },
  {
   "cell_type": "code",
   "execution_count": 171,
   "metadata": {},
   "outputs": [
    {
     "name": "stdout",
     "output_type": "stream",
     "text": [
      "The distances in miles between these cities on Route 66 are: \n",
      "  ['Chicago', 'Springfield', 'Saint-Louis', 'Tulsa', 'Oklahoma City', 'Amarillo', 'Santa Fe', 'Albuquerque', 'Flagstaff', 'LosAngeles'] \n",
      " [[   0  198  303  736  871 1175 1475 1544 1913 2448]\n",
      " [ 198    0  105  538  673  977 1277 1346 1715 2250]\n",
      " [ 303  105    0  433  568  872 1172 1241 1610 2145]\n",
      " [ 736  538  433    0  135  439  739  808 1177 1712]\n",
      " [ 871  673  568  135    0  304  604  673 1042 1577]\n",
      " [1175  977  872  439  304    0  300  369  738 1273]\n",
      " [1475 1277 1172  739  604  300    0   69  438  973]\n",
      " [1544 1346 1241  808  673  369   69    0  369  904]\n",
      " [1913 1715 1610 1177 1042  738  438  369    0  535]\n",
      " [2448 2250 2145 1712 1577 1273  973  904  535    0]]\n",
      "In km instead: \n",
      " [[   0.    318.65  487.63 1184.48 1401.74 1890.98 2373.78 2484.83 3078.68\n",
      "  3939.67]\n",
      " [ 318.65    0.    168.98  865.83 1083.09 1572.33 2055.13 2166.18 2760.02\n",
      "  3621.02]\n",
      " [ 487.63  168.98    0.    696.85  914.11 1403.35 1886.15 1997.2  2591.04\n",
      "  3452.04]\n",
      " [1184.48  865.83  696.85    0.    217.26  706.5  1189.31 1300.35 1894.2\n",
      "  2755.2 ]\n",
      " [1401.74 1083.09  914.11  217.26    0.    489.24  972.04 1083.09 1676.94\n",
      "  2537.94]\n",
      " [1890.98 1572.33 1403.35  706.5   489.24    0.    482.8   593.85 1187.7\n",
      "  2048.69]\n",
      " [2373.78 2055.13 1886.15 1189.31  972.04  482.8     0.    111.04  704.89\n",
      "  1565.89]\n",
      " [2484.83 2166.18 1997.2  1300.35 1083.09  593.85  111.04    0.    593.85\n",
      "  1454.85]\n",
      " [3078.68 2760.02 2591.04 1894.2  1676.94 1187.7   704.89  593.85    0.\n",
      "   861.  ]\n",
      " [3939.67 3621.02 3452.04 2755.2  2537.94 2048.69 1565.89 1454.85  861.\n",
      "     0.  ]]\n"
     ]
    }
   ],
   "source": [
    "city = np.array(['Chicago', 'Springfield', 'Saint-Louis', 'Tulsa', 'Oklahoma City', 'Amarillo', 'Santa Fe', 'Albuquerque', 'Flagstaff', 'LosAngeles'])\n",
    "position = np.array([0, 198, 303, 736, 871, 1175, 1475, 1544, 1913, 2448])\n",
    "\n",
    "print(\"The distances in miles between these cities on Route 66 are: \\n \", list(city), \"\\n\", abs(position.reshape(10,1)-position))\n",
    "print(\"In km instead: \\n\", 1.609344*abs(position.reshape(10,1)-position))"
   ]
  },
  {
   "cell_type": "markdown",
   "metadata": {},
   "source": [
    "7\\. **Prime numbers sieve**\n",
    "\n",
    "Compute the prime numbers in the 0-N (start with N=99) range with a sieve (mask).\n",
    "\n",
    "  * Construct a shape (N,) boolean array, which is the mask\n",
    "  * Identify the multiples of each number starting from 2 and set accordingly the corresponding mask element\n",
    "  * Apply the mask to obtain an array of ordered prime numbers\n",
    "  * Check the performances (with `timeit`); how does it scale with N?\n",
    "  * Implement the optimization suggested in the [sieve of Eratosthenes](https://en.wikipedia.org/wiki/Sieve_of_Eratosthenes)"
   ]
  },
  {
   "cell_type": "code",
   "execution_count": 55,
   "metadata": {},
   "outputs": [],
   "source": [
    "import time\n",
    "import timeit"
   ]
  },
  {
   "cell_type": "code",
   "execution_count": 47,
   "metadata": {},
   "outputs": [
    {
     "name": "stdout",
     "output_type": "stream",
     "text": [
      "[ 2  3  5  7 11 13 17 19 23 29 31 37 41 43 47 53 59 61 67 71 73 79 83 89\n",
      " 97]\n",
      "Time =  5.7697296142578125e-05\n",
      "[  2   3   5   7  11  13  17  19  23  29  31  37  41  43  47  53  59  61\n",
      "  67  71  73  79  83  89  97 101 103 107 109 113 127 131 137 139 149 151\n",
      " 157 163 167 173 179 181 191 193 197 199 211 223 227 229 233 239 241 251\n",
      " 257 263 269 271 277 281 283 293 307 311 313 317 331 337 347 349 353 359\n",
      " 367 373 379 383 389 397 401 409 419 421 431 433 439 443 449 457 461 463\n",
      " 467 479 487 491 499 503 509 521 523 541 547 557 563 569 571 577 587 593\n",
      " 599 601 607 613 617 619 631 641 643 647 653 659 661 673 677 683 691 701\n",
      " 709 719 727 733 739 743 751 757 761 769 773 787 797 809 811 821 823 827\n",
      " 829 839 853 857 859 863 877 881 883 887 907 911 919 929 937 941 947 953\n",
      " 967 971 977 983 991 997]\n",
      "Time =  0.0004119873046875\n",
      "[   2    3    5 ... 9949 9967 9973]\n",
      "Time =  0.009693384170532227\n",
      "[    2     3     5 ... 99971 99989 99991]\n",
      "Time =  0.06358599662780762\n"
     ]
    },
    {
     "data": {
      "text/plain": [
       "[<matplotlib.lines.Line2D at 0x7f024f0f3160>]"
      ]
     },
     "execution_count": 47,
     "metadata": {},
     "output_type": "execute_result"
    },
    {
     "data": {
      "image/png": "[encoded data removed]",
      "text/plain": [
       "<Figure size 432x288 with 1 Axes>"
      ]
     },
     "metadata": {
      "needs_background": "light"
     },
     "output_type": "display_data"
    }
   ],
   "source": [
    "total_time = []\n",
    "maximum = []\n",
    "\n",
    "for N in [99, 999, 9999, 99999]:\n",
    "    maximum.append(N)\n",
    "    numbers = np.arange(N+1)\n",
    "   \n",
    "    prime = np.ones(N+1, dtype=bool)\n",
    "    prime[0], prime[1] = False, False # 0 and 1 are out \n",
    "\n",
    "    start = time.time()\n",
    "    for i in range(2,N+1) :\n",
    "        prime[i*2::i] = False\n",
    "    end = time.time()\n",
    "    \n",
    "    print(numbers[prime])\n",
    "    print(\"Time = \", end-start)\n",
    "    total_time.append(end-start)\n",
    "\n",
    "plt.plot(maximum, total_time) # linear trend"
   ]
  },
  {
   "cell_type": "code",
   "execution_count": 70,
   "metadata": {},
   "outputs": [
    {
     "name": "stdout",
     "output_type": "stream",
     "text": [
      "prime numbers up until 100 are: [ 2  3  5  7 11 13 17 19 23 29 31 37 41 43 47 53 59 61 67 71 73 79 83 89\n",
      " 97]\n",
      "The slowest run took 4.27 times longer than the fastest. This could mean that an intermediate result is being cached.\n",
      "11.1 µs ± 7.15 µs per loop (mean ± std. dev. of 7 runs, 100 loops each)\n",
      "prime numbers up until 1000 are: [  2   3   5   7  11  13  17  19  23  29  31  37  41  43  47  53  59  61\n",
      "  67  71  73  79  83  89  97 101 103 107 109 113 127 131 137 139 149 151\n",
      " 157 163 167 173 179 181 191 193 197 199 211 223 227 229 233 239 241 251\n",
      " 257 263 269 271 277 281 283 293 307 311 313 317 331 337 347 349 353 359\n",
      " 367 373 379 383 389 397 401 409 419 421 431 433 439 443 449 457 461 463\n",
      " 467 479 487 491 499 503 509 521 523 541 547 557 563 569 571 577 587 593\n",
      " 599 601 607 613 617 619 631 641 643 647 653 659 661 673 677 683 691 701\n",
      " 709 719 727 733 739 743 751 757 761 769 773 787 797 809 811 821 823 827\n",
      " 829 839 853 857 859 863 877 881 883 887 907 911 919 929 937 941 947 953\n",
      " 967 971 977 983 991 997]\n",
      "38.2 µs ± 11 µs per loop (mean ± std. dev. of 7 runs, 100 loops each)\n",
      "prime numbers up until 10000 are: [   2    3    5 ... 9949 9967 9973]\n",
      "61.1 µs ± 14.7 µs per loop (mean ± std. dev. of 7 runs, 100 loops each)\n",
      "prime numbers up until 100000 are: [    2     3     5 ... 99971 99989 99991]\n",
      "445 µs ± 38.5 µs per loop (mean ± std. dev. of 7 runs, 100 loops each)\n"
     ]
    },
    {
     "data": {
      "text/plain": [
       "<matplotlib.legend.Legend at 0x7f024b217070>"
      ]
     },
     "execution_count": 70,
     "metadata": {},
     "output_type": "execute_result"
    },
    {
     "data": {
      "image/png": "[encoded data removed]",
      "text/plain": [
       "<Figure size 432x288 with 1 Axes>"
      ]
     },
     "metadata": {
      "needs_background": "light"
     },
     "output_type": "display_data"
    }
   ],
   "source": [
    "def sieve_of_Eratosthenes(N):\n",
    "    prime = np.ones(N, dtype=bool)\n",
    "    prime[0:2] = False  # 0 and 1 are out of the list\n",
    "\n",
    "    for i in range(2, int(np.sqrt(N)) + 1): # using the sieve of Erathostenes\n",
    "        if prime[i]:\n",
    "            prime[i*i:N:i] = False\n",
    "    primes = np.nonzero(prime)[0]\n",
    "    return primes\n",
    "\n",
    "time = []\n",
    "for N in [99, 999, 9999, 99999]:\n",
    "    print(\"prime numbers up until\",N+1,\"are:\",sieve_of_Eratosthenes(N)) #why the time is always the same?\n",
    "    result = %timeit -o -n 100 sieve_of_Eratosthenes(N)\n",
    "    time.append(result.best)\n",
    "\n",
    "plt.plot(maximum, time, label='Erathostenes')\n",
    "plt.plot(maximum, total_time, label='First method')\n",
    "plt.xscale('log')\n",
    "plt.yscale('log')\n",
    "plt.legend()"
   ]
  },
  {
   "cell_type": "markdown",
   "metadata": {},
   "source": [
    "8\\. **Diffusion using random walk**\n",
    "\n",
    "Consider a simple random walk process: at each step in time, a walker jumps right or left (+1 or -1) with equal probability. The goal is to find the typical distance from the origin of many random walkers after a given amount of time.\n",
    "\n",
    "*Hint*: create a 2D array where each row represents a walker, and each column represents a time step.\n",
    "\n",
    "  * Take 1000 walkers and let them walk for 200 steps\n",
    "  * Use `randint` to create a 2D array of size $walkers \\times steps$ with values -1 or 1\n",
    "  * Calculate the walking distances for each walker (e.g. by summing the elements in each row)\n",
    "  * Take the square of the previously-obtained array (element-wise)\n",
    "  * Compute the mean of the squared distances at each step (i.e. the mean along the columns)\n",
    "  * **Optional**: plot the average distances ($\\sqrt(distance^2)$) as a function of time (step)"
   ]
  },
  {
   "cell_type": "code",
   "execution_count": null,
   "metadata": {},
   "outputs": [],
   "source": [
    "from math import sqrt"
   ]
  },
  {
   "cell_type": "code",
   "execution_count": 71,
   "metadata": {},
   "outputs": [
    {
     "name": "stdout",
     "output_type": "stream",
     "text": [
      "1000 walkers (rows) walk for 200 steps (columns) each\n",
      "[[-1 -1 -1 ... -1  1 -1]\n",
      " [ 1 -1  1 ...  1 -1  1]\n",
      " [ 1 -1 -1 ...  1  1 -1]\n",
      " ...\n",
      " [ 1  1 -1 ...  1 -1  1]\n",
      " [ 1 -1 -1 ...  1 -1 -1]\n",
      " [ 1  1  1 ...  1 -1 -1]]\n",
      "the total distance for each walker is: \n",
      " [-14  -8   6 -12  10 -10  -2  14   8   0   6 -10   2 -16  -6  16   0  -2\n",
      "  -8 -16  26  20  -8 -10   8  -6  -2  24   4  20  22   8 -16  12   0  16\n",
      "   2 -30   0  28 -28 -10  -8 -24  -6  24   0  -4  22  -4   6   6  20 -16\n",
      "  -2   8  16 -18  10   8  -4   0 -10  12 -18 -12  -2  -6 -18  10   8   4\n",
      "   6 -20  24 -12   8  -4  -2   4  10  -6  -4   0  -8   6 -10  -8 -32  30\n",
      "   8 -12   2   0 -30   6 -18  12  -2  14 -12 -12  10  -6   2 -16  26  -6\n",
      "  -4  28  -2 -18   0   6  30  12 -26  10  18  -2  -4   2  -4 -20 -36  10\n",
      " -10   8   2 -10 -14   6  30   8  -6 -34 -22 -12  -6  -6   4   4   2 -10\n",
      "  22  10  -8  -2   8  24 -10 -12   6  10  16   6 -18   4  24   0   4   2\n",
      " -16 -12   8  14  -2  10  10   6   6  20   4  12  20  12  22  -4 -10  -4\n",
      "  18  12   4  -2 -22  -4   2  16   2  22  -2   6 -14  -6  10 -18 -10   4\n",
      "  -8  16  32  16  -2  14   8  -6   6   2  -6   0 -10  -8 -10 -12 -26 -24\n",
      " -20   4   6 -24  20  22  -4  20 -10   2 -10   6   2  12  16  10   8  -6\n",
      "  -2 -12  18  10 -30   4   4  -2  -4  -6   2  14 -20  -8 -12   8  16  12\n",
      " -12   8   2 -12 -30  -2 -24  12   2  28   0   0   4  24  10  26  -8 -20\n",
      " -10  -6   8 -18  16 -14   2   2 -12 -18 -16 -26  -8  -4   0  20  -4   4\n",
      " -16  22   0   0   2   0  24 -14 -14  -2   6  12   6 -32  12   8  -2 -14\n",
      "   4   4   6  10   4 -20 -20 -26  -6   6  -4 -10  -8  10  -8  -4  18  -4\n",
      "  10   8  18  26 -12   6 -30  36   4   4 -10 -16   8  -8   6 -10  14   8\n",
      " -22   0  12   8  -2  -4   2  14 -10  -2  44   4  10  14  10   4  20 -20\n",
      "   0   0  18 -30   8 -20  22 -30 -12   6 -20  -8  32  -8  16  -8  10   6\n",
      "  -6  -6  14 -14  14   2   6   8   6  -6  16   0 -28  18 -16   0  18 -14\n",
      " -12 -12 -12 -12  -2 -18  -4 -12   2 -10   0   2  -2  14   4   6  -2  14\n",
      "  -6  12  12 -16 -16   6 -26  14  14 -22  16 -12   0  32  -8 -16  -4 -52\n",
      " -32  10   8 -10  16  -4  20  10   8 -20   0  -6   4 -26  -2  -4 -12  -8\n",
      "  16   2  -6 -28   8  12  22   8  26   2   6  20  10  12  -4  -4  10  14\n",
      "  34  -2  -2   6  -4 -16 -20  -8  24 -20  20  -2 -32  22  10  -6  -2  -8\n",
      "   8   6  -4   2  14  -4   6   2  -6 -16   0   8  16   2  -2  -4  -4 -16\n",
      "   6  12   2 -18  12  24   0 -12  16   0 -18  10   2  10  -4   4  -4  20\n",
      " -22  10  -2 -28  24   8 -18  -8  14   0  -8   8 -16   2 -14  14   8 -18\n",
      "   0  10   4 -22 -14 -40 -16   4 -10 -16 -10 -10   6   6  16   4  16 -14\n",
      "  26   4  -6 -22  -8  24 -12  -4   2  -4 -10  -2   0 -12   8  10 -16  -2\n",
      "  10   0  -6 -14 -14 -10  26  10   6 -32  14 -42  10  -2   6  -4  -4   8\n",
      "  -6   8 -18 -22  18  14  16  -4 -12 -12  12  16 -12   0   2  10  -8 -10\n",
      "   6   4  -8 -10 -22  -6  -6 -22 -22  -8  -6  -8  -2  28   8  18 -10  12\n",
      " -10   0 -36   8   6 -24  -4   2  -2  20  -6 -18  14 -18  -6 -10 -10   0\n",
      "  24   2  12  -8  10  16 -26 -10  12   4  10  -4 -24  26   2   0   2   4\n",
      " -16 -16  -4  10   2   4  14  -2   0  14 -20 -16  -8  -6 -10 -12  -2 -10\n",
      "   6   0  18  18  16  16   0   8  -2   2 -16   4  38  -4  10  -4  -2  24\n",
      "  14  -4  -4   4  -2  -2  -6 -10  -8 -26  -2  12 -16 -26  -4  -8   8  36\n",
      "   8 -18  -8   0  24  -8   6 -14  18  14 -30  -2  16 -10  16  -4  14  -4\n",
      "   6  -6 -10  -6  10  18  -4  -8 -24   8   2   6   4 -10  -2 -16   2 -12\n",
      "  -8 -10 -12   4  20   8  -8   2   4  12  -4   8  22   2   0 -16  12   0\n",
      "  10   2  10  22  -8  -2 -12  26   2   6  20   8  12  12  16  16   2  14\n",
      " -10  -6  20  -2  16  -6   6   0  -8  -2 -16  14   6 -26 -10  18  -2   4\n",
      "  -2  20 -36  -2  14  12  12   2  30  -4  24   8   6  -2 -20  22  -4   6\n",
      "   6 -28  18  -2  -6  14 -22 -24  24  22 -20   2 -26  16  -6   2 -16 -10\n",
      " -40 -14 -18 -10  10  -6  -2 -26  -2  -4 -16  28 -12  12   6   6  -2   2\n",
      "   2  -4 -10  16  18  26  -8   4  14  -8 -16 -12 -14   8 -16  12 -14  -4\n",
      "   2  10  10   4  -8   2 -12   6  -6  -6  14 -20 -16  10 -20 -12   8 -18\n",
      "  -8  26   4   0  18   4  14  14  -6  12 -28   6  22  22  20   8 -12   6\n",
      "  10  18   0  16 -14  10  18 -22 -20  22  24   4 -18  10  -2 -16  -2  -8\n",
      "  28  14 -22  -6  -4  34  -6 -28 -10  -6   8   8  12  18  10   0 -28  14\n",
      "   0   6  -8 -12   4  14   4   8 -14  14  -6  14   0  -2  20   4  -4  22\n",
      "  -4  -6 -10  -8 -24 -16  -2   0  14 -12  12   4 -38 -14 -22 -16  20  -2\n",
      "   0   6   6  -4  -2 -10 -28   0  -6  10]\n",
      "the total distance squared:  [ 196   64   36  144  100  100    4  196   64    0   36  100    4  256\n",
      "   36  256    0    4   64  256  676  400   64  100   64   36    4  576\n",
      "   16  400  484   64  256  144    0  256    4  900    0  784  784  100\n",
      "   64  576   36  576    0   16  484   16   36   36  400  256    4   64\n",
      "  256  324  100   64   16    0  100  144  324  144    4   36  324  100\n",
      "   64   16   36  400  576  144   64   16    4   16  100   36   16    0\n",
      "   64   36  100   64 1024  900   64  144    4    0  900   36  324  144\n",
      "    4  196  144  144  100   36    4  256  676   36   16  784    4  324\n",
      "    0   36  900  144  676  100  324    4   16    4   16  400 1296  100\n",
      "  100   64    4  100  196   36  900   64   36 1156  484  144   36   36\n",
      "   16   16    4  100  484  100   64    4   64  576  100  144   36  100\n",
      "  256   36  324   16  576    0   16    4  256  144   64  196    4  100\n",
      "  100   36   36  400   16  144  400  144  484   16  100   16  324  144\n",
      "   16    4  484   16    4  256    4  484    4   36  196   36  100  324\n",
      "  100   16   64  256 1024  256    4  196   64   36   36    4   36    0\n",
      "  100   64  100  144  676  576  400   16   36  576  400  484   16  400\n",
      "  100    4  100   36    4  144  256  100   64   36    4  144  324  100\n",
      "  900   16   16    4   16   36    4  196  400   64  144   64  256  144\n",
      "  144   64    4  144  900    4  576  144    4  784    0    0   16  576\n",
      "  100  676   64  400  100   36   64  324  256  196    4    4  144  324\n",
      "  256  676   64   16    0  400   16   16  256  484    0    0    4    0\n",
      "  576  196  196    4   36  144   36 1024  144   64    4  196   16   16\n",
      "   36  100   16  400  400  676   36   36   16  100   64  100   64   16\n",
      "  324   16  100   64  324  676  144   36  900 1296   16   16  100  256\n",
      "   64   64   36  100  196   64  484    0  144   64    4   16    4  196\n",
      "  100    4 1936   16  100  196  100   16  400  400    0    0  324  900\n",
      "   64  400  484  900  144   36  400   64 1024   64  256   64  100   36\n",
      "   36   36  196  196  196    4   36   64   36   36  256    0  784  324\n",
      "  256    0  324  196  144  144  144  144    4  324   16  144    4  100\n",
      "    0    4    4  196   16   36    4  196   36  144  144  256  256   36\n",
      "  676  196  196  484  256  144    0 1024   64  256   16 2704 1024  100\n",
      "   64  100  256   16  400  100   64  400    0   36   16  676    4   16\n",
      "  144   64  256    4   36  784   64  144  484   64  676    4   36  400\n",
      "  100  144   16   16  100  196 1156    4    4   36   16  256  400   64\n",
      "  576  400  400    4 1024  484  100   36    4   64   64   36   16    4\n",
      "  196   16   36    4   36  256    0   64  256    4    4   16   16  256\n",
      "   36  144    4  324  144  576    0  144  256    0  324  100    4  100\n",
      "   16   16   16  400  484  100    4  784  576   64  324   64  196    0\n",
      "   64   64  256    4  196  196   64  324    0  100   16  484  196 1600\n",
      "  256   16  100  256  100  100   36   36  256   16  256  196  676   16\n",
      "   36  484   64  576  144   16    4   16  100    4    0  144   64  100\n",
      "  256    4  100    0   36  196  196  100  676  100   36 1024  196 1764\n",
      "  100    4   36   16   16   64   36   64  324  484  324  196  256   16\n",
      "  144  144  144  256  144    0    4  100   64  100   36   16   64  100\n",
      "  484   36   36  484  484   64   36   64    4  784   64  324  100  144\n",
      "  100    0 1296   64   36  576   16    4    4  400   36  324  196  324\n",
      "   36  100  100    0  576    4  144   64  100  256  676  100  144   16\n",
      "  100   16  576  676    4    0    4   16  256  256   16  100    4   16\n",
      "  196    4    0  196  400  256   64   36  100  144    4  100   36    0\n",
      "  324  324  256  256    0   64    4    4  256   16 1444   16  100   16\n",
      "    4  576  196   16   16   16    4    4   36  100   64  676    4  144\n",
      "  256  676   16   64   64 1296   64  324   64    0  576   64   36  196\n",
      "  324  196  900    4  256  100  256   16  196   16   36   36  100   36\n",
      "  100  324   16   64  576   64    4   36   16  100    4  256    4  144\n",
      "   64  100  144   16  400   64   64    4   16  144   16   64  484    4\n",
      "    0  256  144    0  100    4  100  484   64    4  144  676    4   36\n",
      "  400   64  144  144  256  256    4  196  100   36  400    4  256   36\n",
      "   36    0   64    4  256  196   36  676  100  324    4   16    4  400\n",
      " 1296    4  196  144  144    4  900   16  576   64   36    4  400  484\n",
      "   16   36   36  784  324    4   36  196  484  576  576  484  400    4\n",
      "  676  256   36    4  256  100 1600  196  324  100  100   36    4  676\n",
      "    4   16  256  784  144  144   36   36    4    4    4   16  100  256\n",
      "  324  676   64   16  196   64  256  144  196   64  256  144  196   16\n",
      "    4  100  100   16   64    4  144   36   36   36  196  400  256  100\n",
      "  400  144   64  324   64  676   16    0  324   16  196  196   36  144\n",
      "  784   36  484  484  400   64  144   36  100  324    0  256  196  100\n",
      "  324  484  400  484  576   16  324  100    4  256    4   64  784  196\n",
      "  484   36   16 1156   36  784  100   36   64   64  144  324  100    0\n",
      "  784  196    0   36   64  144   16  196   16   64  196  196   36  196\n",
      "    0    4  400   16   16  484   16   36  100   64  576  256    4    0\n",
      "  196  144  144   16 1444  196  484  256  400    4    0   36   36   16\n",
      "    4  100  784    0   36  100]\n",
      "the mean of squared distances at each step is: \n",
      "\n",
      "[0.0, 1.0, 1.9539539539539539, 2.881881881881882, 3.75975975975976, 4.57957957957958, 5.68968968968969, 6.653653653653653, 7.5475475475475475, 8.823823823823824, 9.945945945945946, 11.018018018018019, 12.092092092092091, 13.468468468468469, 15.015015015015015, 15.75875875875876, 16.764764764764763, 17.824824824824823, 18.842842842842842, 19.586586586586588, 20.696696696696698, 22.013013013013012, 23.187187187187188, 24.343343343343342, 25.945945945945947, 26.6016016016016, 26.854854854854853, 27.64264264264264, 28.404404404404403, 29.324324324324323, 30.05805805805806, 30.98198198198198, 32.16016016016016, 34.209209209209206, 35.867867867867865, 36.81981981981982, 37.765765765765764, 38.51751751751752, 39.691691691691695, 40.767767767767765, 41.833833833833836, 43.074074074074076, 44.308308308308305, 45.11611611611612, 46.346346346346344, 47.046046046046044, 48.708708708708706, 49.968968968968966, 51.087087087087085, 52.41941941941942, 53.57757757757758, 54.42142142142142, 55.83983983983984, 56.15915915915916, 55.7997997997998, 57.232232232232235, 58.866866866866864, 59.08208208208208, 59.3953953953954, 59.290290290290294, 61.213213213213216, 61.28428428428428, 61.97797797797798, 63.02202202202202, 63.93993993993994, 64.91191191191191, 65.95395395395396, 68.24324324324324, 69.34934934934935, 70.05305305305305, 70.36636636636636, 70.48548548548548, 71.66366366366367, 72.67967967967968, 74.49849849849849, 76.05905905905905, 77.14514514514515, 77.4044044044044, 78.30630630630631, 79.5905905905906, 80.92492492492492, 82.08908908908909, 83.25925925925925, 84.37937937937937, 84.77677677677677, 85.07607607607608, 85.74974974974975, 86.36536536536536, 87.27127127127127, 88.13513513513513, 88.95695695695696, 90.98598598598599, 91.24724724724724, 92.25925925925925, 93.02102102102103, 94.3893893893894, 94.01801801801801, 95.1901901901902, 96.44444444444444, 98.72972972972973, 99.41141141141141, 100.37137137137137, 100.73673673673673, 101.7967967967968, 102.10610610610611, 101.95695695695696, 101.94594594594595, 104.11911911911912, 105.94594594594595, 107.5945945945946, 108.13613613613613, 109.82882882882883, 110.2022022022022, 110.7897897897898, 112.02402402402403, 112.73573573573573, 113.82982982982983, 115.6106106106106, 117.005005005005, 118.53353353353353, 119.41141141141141, 120.70370370370371, 122.13413413413413, 123.28228228228228, 123.83583583583584, 124.09109109109109, 124.57257257257257, 125.18018018018019, 125.90990990990991, 127.22222222222223, 128.54854854854855, 129.4004004004004, 132.17217217217217, 133.24424424424424, 133.05305305305305, 133.63663663663664, 133.92992992992993, 134.1891891891892, 134.97497497497497, 136.26326326326327, 138.3903903903904, 138.91391391391392, 138.3983983983984, 139.15415415415416, 138.61461461461462, 140.72372372372374, 142.54654654654655, 142.94194194194193, 143.86786786786786, 145.2802802802803, 146.17817817817817, 146.17717717717719, 146.7067067067067, 147.8188188188188, 146.8948948948949, 149.3083083083083, 151.2992992992993, 152.35135135135135, 153.92992992992993, 153.7847847847848, 155.35535535535536, 156.52352352352352, 158.82282282282281, 159.35835835835834, 161.01701701701703, 162.81781781781783, 164.84084084084085, 165.33233233233233, 166.6946946946947, 166.6136136136136, 167.94794794794794, 168.6076076076076, 170.1181181181181, 171.64264264264264, 172.6806806806807, 172.64364364364366, 174.022022022022, 176.75975975975976, 175.7157157157157, 178.0890890890891, 178.97497497497497, 179.37037037037038, 178.93093093093094, 180.80380380380382, 182.02602602602602, 182.15715715715714, 184.8928928928929, 184.91191191191191, 185.47747747747746, 184.27927927927928, 184.33633633633633, 185.4004004004004, 186.002002002002, 187.04204204204206, 186.43443443443442, 187.96296296296296, 188.76076076076077, 191.05405405405406, 191.65965965965967, 190.94994994994994]\n"
     ]
    },
    {
     "data": {
      "text/plain": [
       "[<matplotlib.lines.Line2D at 0x7f024b169690>]"
      ]
     },
     "execution_count": 71,
     "metadata": {},
     "output_type": "execute_result"
    },
    {
     "data": {
      "image/png": "[encoded data removed]",
      "text/plain": [
       "<Figure size 432x288 with 1 Axes>"
      ]
     },
     "metadata": {
      "needs_background": "light"
     },
     "output_type": "display_data"
    }
   ],
   "source": [
    "print(\"1000 walkers (rows) walk for 200 steps (columns) each\")\n",
    "steps = [i for i in range(200)]\n",
    "walkers = [i for i in range(1000)]\n",
    "\n",
    "npr.seed(30485)\n",
    "\n",
    "my_array = npr.randint(0,2, size=(len(walkers), len(steps))) # another useful function would have been random.choice([-1,1])\n",
    "my_array = np.where(my_array == 0, -1, my_array)\n",
    "print(my_array)\n",
    "\n",
    "print(\"the total distance for each walker is: \\n\", my_array.sum(axis=1))\n",
    "print(\"the total distance squared: \", my_array.sum(axis=1)**2)\n",
    "\n",
    "print(\"the mean of squared distances at each step is: \\n\")\n",
    "lista =[]\n",
    "for i in range(200) :\n",
    "    lista.append(np.mean(my_array[0:999, 0:i].sum(axis=1)**2, axis=0))\n",
    "    \n",
    "print(lista)\n",
    "\n",
    "lista_sq = []\n",
    "for i in lista:\n",
    "    lista_sq.append(sqrt(i))\n",
    "    \n",
    "plt.plot(steps,lista_sq)"
   ]
  },
  {
   "cell_type": "code",
   "execution_count": null,
   "metadata": {},
   "outputs": [],
   "source": []
  }
 ],
 "metadata": {
  "kernelspec": {
   "display_name": "Python 3 (ipykernel)",
   "language": "python",
   "name": "python3"
  },
  "language_info": {
   "codemirror_mode": {
    "name": "ipython",
    "version": 3
   },
   "file_extension": ".py",
   "mimetype": "text/x-python",
   "name": "python",
   "nbconvert_exporter": "python",
   "pygments_lexer": "ipython3",
   "version": "3.10.12"
  }
 },
 "nbformat": 4,
 "nbformat_minor": 4
}
